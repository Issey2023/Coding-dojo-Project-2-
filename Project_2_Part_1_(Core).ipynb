{
  "nbformat": 4,
  "nbformat_minor": 0,
  "metadata": {
    "colab": {
      "provenance": []
    },
    "kernelspec": {
      "name": "python3",
      "display_name": "Python 3"
    },
    "language_info": {
      "name": "python"
    }
  },
  "cells": [
    {
      "cell_type": "markdown",
      "source": [
        "\n",
        "Student: Ismaa-eel Hendricks"
      ],
      "metadata": {
        "id": "9hU9Jo4EK-XR"
      }
    },
    {
      "cell_type": "code",
      "source": [
        "#load the dataset\n",
        "import pandas as pd\n",
        "import numpy as np\n"
      ],
      "metadata": {
        "id": "NhDeAIJmOR-i"
      },
      "execution_count": null,
      "outputs": []
    },
    {
      "cell_type": "code",
      "source": [
        "#mount drive to colab\n",
        "from google.colab import drive\n",
        "drive.mount('/content/drive')"
      ],
      "metadata": {
        "colab": {
          "base_uri": "https://localhost:8080/"
        },
        "id": "wEnPugS1OYXD",
        "outputId": "28cc2310-5377-4ccb-827f-8d010a9b4ed6"
      },
      "execution_count": null,
      "outputs": [
        {
          "output_type": "stream",
          "name": "stdout",
          "text": [
            "Mounted at /content/drive\n"
          ]
        }
      ]
    },
    {
      "cell_type": "markdown",
      "source": [
        "#Data Selection\n",
        "\n",
        "I have selected the data for:\n",
        "\n",
        "[Car Insurance](https://www.kaggle.com/datasets/sagnik1511/car-insurance-data)\n",
        "\n",
        "[Stroke Prediction Data Set](https://www.kaggle.com/datasets/fedesoriano/stroke-prediction-dataset)\n",
        "\n",
        "\n",
        "\n",
        "\n",
        "\n",
        "\n",
        "\n",
        "\n"
      ],
      "metadata": {
        "id": "RwgDz1-zLCAf"
      }
    },
    {
      "cell_type": "markdown",
      "source": [
        "#First Choice"
      ],
      "metadata": {
        "id": "oSQY3ovDVUtw"
      }
    },
    {
      "cell_type": "code",
      "source": [
        "#create file path\n",
        "fpath = '/content/drive/MyDrive/coding dojo week 6/coding dojo projec2 /Car_Insurance_Claim.csv'\n",
        "df = pd.read_csv(fpath)\n",
        "df.info()"
      ],
      "metadata": {
        "colab": {
          "base_uri": "https://localhost:8080/"
        },
        "id": "4DN0cayXPZIA",
        "outputId": "c710bfc1-f2b8-477a-a781-350fabe069cf"
      },
      "execution_count": null,
      "outputs": [
        {
          "output_type": "stream",
          "name": "stdout",
          "text": [
            "<class 'pandas.core.frame.DataFrame'>\n",
            "RangeIndex: 10000 entries, 0 to 9999\n",
            "Data columns (total 19 columns):\n",
            " #   Column               Non-Null Count  Dtype  \n",
            "---  ------               --------------  -----  \n",
            " 0   ID                   10000 non-null  int64  \n",
            " 1   AGE                  10000 non-null  object \n",
            " 2   GENDER               10000 non-null  object \n",
            " 3   RACE                 10000 non-null  object \n",
            " 4   DRIVING_EXPERIENCE   10000 non-null  object \n",
            " 5   EDUCATION            10000 non-null  object \n",
            " 6   INCOME               10000 non-null  object \n",
            " 7   CREDIT_SCORE         9018 non-null   float64\n",
            " 8   VEHICLE_OWNERSHIP    10000 non-null  int64  \n",
            " 9   VEHICLE_YEAR         10000 non-null  object \n",
            " 10  MARRIED              10000 non-null  int64  \n",
            " 11  CHILDREN             10000 non-null  int64  \n",
            " 12  POSTAL_CODE          10000 non-null  int64  \n",
            " 13  ANNUAL_MILEAGE       9043 non-null   float64\n",
            " 14  VEHICLE_TYPE         10000 non-null  object \n",
            " 15  SPEEDING_VIOLATIONS  10000 non-null  int64  \n",
            " 16  DUIS                 10000 non-null  int64  \n",
            " 17  PAST_ACCIDENTS       10000 non-null  int64  \n",
            " 18  OUTCOME              10000 non-null  int64  \n",
            "dtypes: float64(2), int64(9), object(8)\n",
            "memory usage: 1.4+ MB\n"
          ]
        }
      ]
    },
    {
      "cell_type": "code",
      "source": [
        "#Description of the dataset\n",
        "\n",
        "#how many cases are included in the dataset\n",
        "length = len(df)\n",
        "#how many features are in the dataset\n",
        "features = df.shape[1]-1\n",
        "\n",
        "print (\"There are \"+ str(len(df))+\" cases in this dataset\")\n",
        "print (\"There are {}\".format(features)+\" features in this dataset\")\n"
      ],
      "metadata": {
        "colab": {
          "base_uri": "https://localhost:8080/"
        },
        "id": "iVxYkRUJQUTs",
        "outputId": "8d840243-cd92-4037-8d37-8927d7d8a6f4"
      },
      "execution_count": null,
      "outputs": [
        {
          "output_type": "stream",
          "name": "stdout",
          "text": [
            "There are 10000 cases in this dataset\n",
            "There are 18 features in this dataset\n"
          ]
        }
      ]
    },
    {
      "cell_type": "code",
      "source": [
        "df['OUTCOME'].value_counts()"
      ],
      "metadata": {
        "colab": {
          "base_uri": "https://localhost:8080/"
        },
        "id": "tU8OLlI9Qiyg",
        "outputId": "197c3f12-3e04-4898-9bf1-4eca5e520571"
      },
      "execution_count": null,
      "outputs": [
        {
          "output_type": "execute_result",
          "data": {
            "text/plain": [
              "0    6867\n",
              "1    3133\n",
              "Name: OUTCOME, dtype: int64"
            ]
          },
          "metadata": {},
          "execution_count": 4
        }
      ]
    },
    {
      "cell_type": "markdown",
      "source": [
        "##First choice: [Car Insurance](https://www.kaggle.com/datasets/sagnik1511/car-insurance-data)\n",
        "\n",
        "1. **Source of data**\\\n",
        "[www.kaggle.com](https://www.kaggle.com/)\n",
        "2. **Brief description of data**\\\n",
        "Context:\\\n",
        "The company has shared its annual car insurance data. Now, you have to find out the real customer behaviors over the data.\n",
        "\n",
        "3. **What is the target?**\\\n",
        "The outcome column indicates 1 if a customer has claimed his/her loan else 0.\n",
        "\n",
        "4. **What does one row represent?** (A person? A business? An event? A product?)\\\n",
        "An Event\n",
        "5. **Is this a classification or regression problem?**\\\n",
        "This is a classification problem\n",
        "\n",
        "6. **How many features does the data have?**\\\n",
        "There are 18 features in this dataset\n",
        "\n",
        "7. **How many rows are in the dataset?**\\\n",
        "There are 10 000 cases in this dataset\n",
        "\n",
        "8. **What, if any, challenges do you foresee in cleaning, exploring, or modeling this dataset**?\n",
        "\\\n",
        "One challenge could be dealing with data imbalance, which might necessitate the identification and application of appropriate techniques and hyperparameters to effectively model the imbalanced dataset. Additionally, determining the optimal approaches for data standardization, handling missing values through imputation, and selecting appropriate modeling strategies will be crucial for achieving the highest level of prediction accuracy"
      ],
      "metadata": {
        "id": "utLxiknKMNXW"
      }
    },
    {
      "cell_type": "markdown",
      "source": [
        "#Second choice"
      ],
      "metadata": {
        "id": "HhEsm1V1TK5K"
      }
    },
    {
      "cell_type": "code",
      "source": [
        "#create file path\n",
        "fpath = '/content/drive/MyDrive/coding dojo week 6/coding dojo projec2 /healthcare-dataset-stroke-data.csv'\n",
        "dhc = pd.read_csv(fpath)\n",
        "dhc.info(5)"
      ],
      "metadata": {
        "colab": {
          "base_uri": "https://localhost:8080/"
        },
        "id": "TZgIK2sdTAb7",
        "outputId": "8bc0e085-c602-4f8c-b064-ccfa30379fd0"
      },
      "execution_count": null,
      "outputs": [
        {
          "output_type": "stream",
          "name": "stdout",
          "text": [
            "<class 'pandas.core.frame.DataFrame'>\n",
            "RangeIndex: 5110 entries, 0 to 5109\n",
            "Data columns (total 12 columns):\n",
            " #   Column             Non-Null Count  Dtype  \n",
            "---  ------             --------------  -----  \n",
            " 0   id                 5110 non-null   int64  \n",
            " 1   gender             5110 non-null   object \n",
            " 2   age                5110 non-null   float64\n",
            " 3   hypertension       5110 non-null   int64  \n",
            " 4   heart_disease      5110 non-null   int64  \n",
            " 5   ever_married       5110 non-null   object \n",
            " 6   work_type          5110 non-null   object \n",
            " 7   Residence_type     5110 non-null   object \n",
            " 8   avg_glucose_level  5110 non-null   float64\n",
            " 9   bmi                4909 non-null   float64\n",
            " 10  smoking_status     5110 non-null   object \n",
            " 11  stroke             5110 non-null   int64  \n",
            "dtypes: float64(3), int64(4), object(5)\n",
            "memory usage: 479.2+ KB\n"
          ]
        }
      ]
    },
    {
      "cell_type": "code",
      "source": [
        "#how many cases are included in the dataset\n",
        "length = len(dhc)\n",
        "#how many features are in the dataset\n",
        "features = dhc.shape[1]-1\n",
        "\n",
        "print (\"There are \"+ str(len(dhc))+\" cases in this dataset\")\n",
        "print (\"There are {}\".format(features)+\" features in this dataset\")"
      ],
      "metadata": {
        "colab": {
          "base_uri": "https://localhost:8080/"
        },
        "id": "F6Id32WRV0Hb",
        "outputId": "2ec59222-890e-44db-912b-62fdcca0e993"
      },
      "execution_count": null,
      "outputs": [
        {
          "output_type": "stream",
          "name": "stdout",
          "text": [
            "There are 5110 cases in this dataset\n",
            "There are 11 features in this dataset\n"
          ]
        }
      ]
    },
    {
      "cell_type": "code",
      "source": [
        "dhc['stroke'].value_counts()"
      ],
      "metadata": {
        "colab": {
          "base_uri": "https://localhost:8080/"
        },
        "id": "GTeEhXLlaeBk",
        "outputId": "c1577c54-15a1-42f1-abbe-d6aeb2e77262"
      },
      "execution_count": null,
      "outputs": [
        {
          "output_type": "execute_result",
          "data": {
            "text/plain": [
              "0    4861\n",
              "1     249\n",
              "Name: stroke, dtype: int64"
            ]
          },
          "metadata": {},
          "execution_count": 22
        }
      ]
    },
    {
      "cell_type": "markdown",
      "source": [
        "##Second choice: [Stroke Prediction Data Set](https://www.kaggle.com/datasets/fedesoriano/stroke-prediction-dataset)\n",
        "\n",
        "1. **Source of data**\\\n",
        "[www.kaggle.com](https://www.kaggle.com/)\n",
        "2. **Brief description of data**\\\n",
        "Context:\\\n",
        "According to the World Health Organization (WHO) stroke is the 2nd leading cause of death globally, responsible for approximately 11% of total deaths.\n",
        "This dataset is used to predict whether a patient is likely to get stroke based on the input parameters like gender, age, various diseases, and smoking status.\n",
        "\n",
        "3. **What is the target?**\\\n",
        "Determine if the patient will have stroke or not. If yes, then 1, else 0. The target is the variable that a patientw will have a stroke or not.\n",
        "\n",
        "4. **What does one row represent?** (A person? A business? An event? A product?)\\\n",
        "Each row in the data provides relavant information about the patient.\n",
        "5. **Is this a classification or regression problem?**\\\n",
        "This is a classification problem.\n",
        "\n",
        "6. **How many features does the data have?**\\\n",
        "There are 11 features in this dataset\n",
        "\n",
        "7. **How many rows are in the dataset?**\\\n",
        "There are 5110 cases in this dataset.\n",
        "\n",
        "8. **What, if any, challenges do you foresee in cleaning, exploring, or modeling this dataset**?\\\n",
        "One challenge could be dealing with data imbalance, which might necessitate the identification and application of appropriate techniques and hyperparameters to effectively model the imbalanced dataset. Additionally, determining the optimal approaches for data standardization, handling missing values through imputation, and selecting appropriate modeling strategies will be crucial for achieving the highest level of prediction accuracy."
      ],
      "metadata": {
        "id": "9ZfkhIJDTW5E"
      }
    }
  ]
}